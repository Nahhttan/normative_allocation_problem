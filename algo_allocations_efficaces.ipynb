{
 "cells": [
  {
   "cell_type": "markdown",
   "metadata": {},
   "source": [
    "# Annexe : comment déterminer les allocations normativement efficaces ?\n",
    "\n",
    "Ce notebook permet de comprendre le fonctionnement de l'algorithme permettant de déterminer l'ensemble des allocations normativement efficaces. Cet algorithme fonctionne de façon itérative, en passant en revue chaque allocation, et en l'ajoutant ou non (le cas échéant, en virant parfois certaines allocations préalablement candidates au passage). La fonction ci-dessous permet de comprendre le fonctionnemnet d'une itération.\n",
    "\n",
    "[Plus d'explications à venir...]"
   ]
  },
  {
   "cell_type": "code",
   "execution_count": 46,
   "metadata": {},
   "outputs": [],
   "source": [
    "import math"
   ]
  },
  {
   "cell_type": "code",
   "execution_count": 53,
   "metadata": {},
   "outputs": [],
   "source": [
    "def new_allocations_efficaces(allocation, old_allocations_efficaces, sorted_scores_1, sorted_scores_2):\n",
    "\n",
    "    length = len(old_allocations_efficaces)\n",
    "\n",
    "    indice_u, indice_v = length + 0.5, length + 0.5\n",
    "\n",
    "    for i in range(length):\n",
    "        print(i)\n",
    "        if sorted_scores_1[i] < allocation[1]:\n",
    "            print(\"on s'arrête i\")\n",
    "            indice_u = i + 0.5\n",
    "            break\n",
    "        elif sorted_scores_1[i] == allocation[1]:\n",
    "            print(\"on s'arrête i égal\")\n",
    "            indice_u = i + 1\n",
    "            break\n",
    "        \n",
    "    for j in range(length):\n",
    "        print(j)\n",
    "        if sorted_scores_2[j] > allocation[2]:\n",
    "            print(\"on s'arrête j\")\n",
    "            indice_v = j + 0.5\n",
    "            break\n",
    "        elif sorted_scores_2[j] == allocation[2]:\n",
    "            print(\"on s'arrête j égal\")\n",
    "            indice_v = j + 1\n",
    "            break\n",
    "\n",
    "    print(indice_u, indice_v)\n",
    "\n",
    "    lim_inf, lim_sup = math.ceil(indice_u), math.floor(indice_v)\n",
    "\n",
    "    if indice_u < indice_v:\n",
    "\n",
    "        new_allocations_efficaces = old_allocations_efficaces[:lim_inf-1] + old_allocations_efficaces[lim_sup:]\n",
    "        sorted_scores_1 = sorted_scores_1[:lim_inf-1] + sorted_scores_1[lim_sup:]\n",
    "        sorted_scores_2 = sorted_scores_2[:lim_inf-1] + sorted_scores_2[lim_sup:]\n",
    "\n",
    "        new_allocations_efficaces.insert(lim_inf-1, allocation[0])\n",
    "        sorted_scores_1.insert(lim_inf-1, allocation[1])\n",
    "        sorted_scores_2.insert(lim_inf-1, allocation[2])\n",
    "\n",
    "    elif indice_u > indice_v:\n",
    "        new_allocations_efficaces = old_allocations_efficaces\n",
    "        \n",
    "    else: # indice_u == indice_v\n",
    "        new_allocations_efficaces.insert(lim_inf-1, allocation[0])\n",
    "        sorted_scores_1.insert(lim_inf-1, allocation[1])\n",
    "        sorted_scores_2.insert(lim_inf-1, allocation[2])\n",
    "\n",
    "    return {\"allocations\": new_allocations_efficaces,\n",
    "            \"sorted_scores_1\": sorted_scores_1,\n",
    "            \"sorted_scores_2\": sorted_scores_2}"
   ]
  },
  {
   "cell_type": "code",
   "execution_count": 54,
   "metadata": {},
   "outputs": [],
   "source": [
    "allocations = [\"a1\", \"a2\", \"a3\", \"a4\", \"a5\"]\n",
    "lst_1 = [10, 8, 6, 4, 2]\n",
    "lst_2 = [12, 14, 16, 18, 20]"
   ]
  },
  {
   "cell_type": "code",
   "execution_count": 58,
   "metadata": {},
   "outputs": [
    {
     "name": "stdout",
     "output_type": "stream",
     "text": [
      "0\n",
      "1\n",
      "2\n",
      "3\n",
      "4\n",
      "on s'arrête i\n",
      "0\n",
      "1\n",
      "2\n",
      "3\n",
      "4\n",
      "on s'arrête j égal\n",
      "4.5 5\n"
     ]
    },
    {
     "data": {
      "text/plain": [
       "{'allocations': ['a1', 'a2', 'a3', 'a4', 'X'],\n",
       " 'sorted_scores_1': [10, 8, 6, 4, 3],\n",
       " 'sorted_scores_2': [12, 14, 16, 18, 20]}"
      ]
     },
     "execution_count": 58,
     "metadata": {},
     "output_type": "execute_result"
    }
   ],
   "source": [
    "new_allocations_efficaces([\"X\", 3, 20], allocations, lst_1, lst_2)"
   ]
  }
 ],
 "metadata": {
  "kernelspec": {
   "display_name": "base",
   "language": "python",
   "name": "python3"
  },
  "language_info": {
   "codemirror_mode": {
    "name": "ipython",
    "version": 3
   },
   "file_extension": ".py",
   "mimetype": "text/x-python",
   "name": "python",
   "nbconvert_exporter": "python",
   "pygments_lexer": "ipython3",
   "version": "3.9.7"
  }
 },
 "nbformat": 4,
 "nbformat_minor": 2
}
